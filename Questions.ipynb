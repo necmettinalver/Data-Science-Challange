{
 "cells": [
  {
   "cell_type": "markdown",
   "metadata": {
    "colab_type": "text",
    "id": "8MiMTc5_NNPj"
   },
   "source": [
    "# Data Science Challenge"
   ]
  },
  {
   "cell_type": "code",
   "execution_count": 1,
   "metadata": {
    "colab": {},
    "colab_type": "code",
    "id": "QP1q2srGNNPo"
   },
   "outputs": [],
   "source": [
    "# If additional packages are needed but are not installed by default, uncomment the last two lines of this cell\n",
    "# and replace <package list> with a list of additional packages.\n",
    "# This will ensure the notebook has all the dependencies and works everywhere\n",
    "\n",
    "#import sys\n",
    "#!{sys.executable} -m pip install <package list>"
   ]
  },
  {
   "cell_type": "code",
   "execution_count": 2,
   "metadata": {
    "colab": {},
    "colab_type": "code",
    "id": "ZnKy7tPyNNPs"
   },
   "outputs": [],
   "source": [
    "# Libraries\n",
    "import pandas as pd\n",
    "pd.set_option(\"display.max_columns\", 101)"
   ]
  },
  {
   "cell_type": "markdown",
   "metadata": {
    "colab_type": "text",
    "id": "3DZrs3tbNNPv"
   },
   "source": [
    "## Data Description"
   ]
  },
  {
   "cell_type": "markdown",
   "metadata": {
    "colab_type": "text",
    "id": "ErDxdcsoNNPx"
   },
   "source": [
    "Column | Description\n",
    ":---|:---\n",
    "`id` | Unique identifier for each booking.\n",
    "`lead_time` | Time between booking date and reservation date (in days)\n",
    "`arrival_week` | Week number of the arrival date.\n",
    "`duration` | Booking duration (in Days)\n",
    "`prev_cancel` | Number of previous bookings that were cancelled by the customer prior to the current booking.\n",
    "`booking_changes` | Number of changes/amendments made to the booking from the moment the booking was entered on the PMS until the moment of check-in or cancellation. \n",
    "`waiting_period` | Waiting period for booking confirmation (in Days)\t\n",
    "`per_Day_price` | Per night booking price (in US $).\n",
    "`parking` | Number of car parking spaces required by the customer.\n",
    "`special_request` | Number of special requests made by the customer.\n",
    "`segment` | Market segment designation. In categories, “TA” means “Travel Agents” and “TO” means “Tour Operators”.\n",
    "`deposit` | Whether the customer made a deposit to guarantee the booking.\n",
    "`cust_type` | Type of booking, assuming one of four categories.\n",
    "`is_cancelled` |Value indicating if the booking was cancelled (1) or not (0)."
   ]
  },
  {
   "cell_type": "markdown",
   "metadata": {
    "colab_type": "text",
    "id": "knONIoqcNNPy"
   },
   "source": [
    "## Data Wrangling & Visualization"
   ]
  },
  {
   "cell_type": "code",
   "execution_count": 47,
   "metadata": {
    "colab": {},
    "colab_type": "code",
    "id": "SRLzBBNNNNPz"
   },
   "outputs": [],
   "source": [
    "# The dataset is already loaded below\n",
    "data = pd.read_csv(\"train.csv\")"
   ]
  },
  {
   "cell_type": "code",
   "execution_count": 48,
   "metadata": {
    "colab": {},
    "colab_type": "code",
    "id": "61JhPEGiNNP4",
    "outputId": "48dac540-e9ac-49a2-cfcd-575b92b3ffc9"
   },
   "outputs": [
    {
     "data": {
      "text/html": [
       "<div>\n",
       "<style scoped>\n",
       "    .dataframe tbody tr th:only-of-type {\n",
       "        vertical-align: middle;\n",
       "    }\n",
       "\n",
       "    .dataframe tbody tr th {\n",
       "        vertical-align: top;\n",
       "    }\n",
       "\n",
       "    .dataframe thead th {\n",
       "        text-align: right;\n",
       "    }\n",
       "</style>\n",
       "<table border=\"1\" class=\"dataframe\">\n",
       "  <thead>\n",
       "    <tr style=\"text-align: right;\">\n",
       "      <th></th>\n",
       "      <th>id</th>\n",
       "      <th>lead_time</th>\n",
       "      <th>arrival_week</th>\n",
       "      <th>duration</th>\n",
       "      <th>prev_cancel</th>\n",
       "      <th>booking_changes</th>\n",
       "      <th>waiting_period</th>\n",
       "      <th>per_Day_price</th>\n",
       "      <th>parking</th>\n",
       "      <th>special_request</th>\n",
       "      <th>segment</th>\n",
       "      <th>deposit</th>\n",
       "      <th>cust_type</th>\n",
       "      <th>is_cancelled</th>\n",
       "    </tr>\n",
       "  </thead>\n",
       "  <tbody>\n",
       "    <tr>\n",
       "      <th>0</th>\n",
       "      <td>200</td>\n",
       "      <td>245</td>\n",
       "      <td>13</td>\n",
       "      <td>5</td>\n",
       "      <td>0</td>\n",
       "      <td>0</td>\n",
       "      <td>0</td>\n",
       "      <td>78.26</td>\n",
       "      <td>0</td>\n",
       "      <td>2</td>\n",
       "      <td>Online TA</td>\n",
       "      <td>No Deposit</td>\n",
       "      <td>Transient</td>\n",
       "      <td>0</td>\n",
       "    </tr>\n",
       "    <tr>\n",
       "      <th>1</th>\n",
       "      <td>201</td>\n",
       "      <td>170</td>\n",
       "      <td>25</td>\n",
       "      <td>2</td>\n",
       "      <td>0</td>\n",
       "      <td>0</td>\n",
       "      <td>0</td>\n",
       "      <td>130.50</td>\n",
       "      <td>0</td>\n",
       "      <td>0</td>\n",
       "      <td>Online TA</td>\n",
       "      <td>No Deposit</td>\n",
       "      <td>Transient</td>\n",
       "      <td>0</td>\n",
       "    </tr>\n",
       "    <tr>\n",
       "      <th>2</th>\n",
       "      <td>202</td>\n",
       "      <td>304</td>\n",
       "      <td>45</td>\n",
       "      <td>3</td>\n",
       "      <td>0</td>\n",
       "      <td>0</td>\n",
       "      <td>0</td>\n",
       "      <td>89.00</td>\n",
       "      <td>0</td>\n",
       "      <td>0</td>\n",
       "      <td>Offline TA/TO</td>\n",
       "      <td>Non Refund</td>\n",
       "      <td>Transient</td>\n",
       "      <td>1</td>\n",
       "    </tr>\n",
       "    <tr>\n",
       "      <th>3</th>\n",
       "      <td>203</td>\n",
       "      <td>19</td>\n",
       "      <td>7</td>\n",
       "      <td>1</td>\n",
       "      <td>0</td>\n",
       "      <td>0</td>\n",
       "      <td>0</td>\n",
       "      <td>82.13</td>\n",
       "      <td>0</td>\n",
       "      <td>2</td>\n",
       "      <td>Online TA</td>\n",
       "      <td>No Deposit</td>\n",
       "      <td>Transient</td>\n",
       "      <td>0</td>\n",
       "    </tr>\n",
       "    <tr>\n",
       "      <th>4</th>\n",
       "      <td>204</td>\n",
       "      <td>214</td>\n",
       "      <td>27</td>\n",
       "      <td>4</td>\n",
       "      <td>0</td>\n",
       "      <td>0</td>\n",
       "      <td>0</td>\n",
       "      <td>89.10</td>\n",
       "      <td>0</td>\n",
       "      <td>1</td>\n",
       "      <td>Direct</td>\n",
       "      <td>No Deposit</td>\n",
       "      <td>Transient-Party</td>\n",
       "      <td>0</td>\n",
       "    </tr>\n",
       "  </tbody>\n",
       "</table>\n",
       "</div>"
      ],
      "text/plain": [
       "    id  lead_time  arrival_week  duration  prev_cancel  booking_changes  \\\n",
       "0  200        245            13         5            0                0   \n",
       "1  201        170            25         2            0                0   \n",
       "2  202        304            45         3            0                0   \n",
       "3  203         19             7         1            0                0   \n",
       "4  204        214            27         4            0                0   \n",
       "\n",
       "   waiting_period  per_Day_price  parking  special_request        segment  \\\n",
       "0               0          78.26        0                2      Online TA   \n",
       "1               0         130.50        0                0      Online TA   \n",
       "2               0          89.00        0                0  Offline TA/TO   \n",
       "3               0          82.13        0                2      Online TA   \n",
       "4               0          89.10        0                1         Direct   \n",
       "\n",
       "           deposit        cust_type  is_cancelled  \n",
       "0  No Deposit             Transient             0  \n",
       "1  No Deposit             Transient             0  \n",
       "2  Non Refund             Transient             1  \n",
       "3  No Deposit             Transient             0  \n",
       "4  No Deposit       Transient-Party             0  "
      ]
     },
     "execution_count": 48,
     "metadata": {},
     "output_type": "execute_result"
    }
   ],
   "source": [
    "data.head()"
   ]
  },
  {
   "cell_type": "code",
   "execution_count": 49,
   "metadata": {
    "colab": {},
    "colab_type": "code",
    "id": "KwZ-0ykHNNP-",
    "outputId": "31813dc0-53be-4848-e86a-60e5efb46e07"
   },
   "outputs": [
    {
     "data": {
      "text/plain": [
       "Index(['id', 'lead_time', 'arrival_week', 'duration', 'prev_cancel',\n",
       "       'booking_changes', 'waiting_period', 'per_Day_price', 'parking',\n",
       "       'special_request', 'segment', 'deposit', 'cust_type', 'is_cancelled'],\n",
       "      dtype='object')"
      ]
     },
     "execution_count": 49,
     "metadata": {},
     "output_type": "execute_result"
    }
   ],
   "source": [
    "#Explore columns\n",
    "data.columns"
   ]
  },
  {
   "cell_type": "code",
   "execution_count": 50,
   "metadata": {
    "colab": {},
    "colab_type": "code",
    "id": "ekzXg7HBNNQB",
    "outputId": "3d4d826d-09c2-44d7-fb30-d7932f90dff9"
   },
   "outputs": [
    {
     "data": {
      "text/html": [
       "<div>\n",
       "<style scoped>\n",
       "    .dataframe tbody tr th:only-of-type {\n",
       "        vertical-align: middle;\n",
       "    }\n",
       "\n",
       "    .dataframe tbody tr th {\n",
       "        vertical-align: top;\n",
       "    }\n",
       "\n",
       "    .dataframe thead th {\n",
       "        text-align: right;\n",
       "    }\n",
       "</style>\n",
       "<table border=\"1\" class=\"dataframe\">\n",
       "  <thead>\n",
       "    <tr style=\"text-align: right;\">\n",
       "      <th></th>\n",
       "      <th>id</th>\n",
       "      <th>lead_time</th>\n",
       "      <th>arrival_week</th>\n",
       "      <th>duration</th>\n",
       "      <th>prev_cancel</th>\n",
       "      <th>booking_changes</th>\n",
       "      <th>waiting_period</th>\n",
       "      <th>per_Day_price</th>\n",
       "      <th>parking</th>\n",
       "      <th>special_request</th>\n",
       "      <th>is_cancelled</th>\n",
       "    </tr>\n",
       "  </thead>\n",
       "  <tbody>\n",
       "    <tr>\n",
       "      <th>count</th>\n",
       "      <td>3000.000000</td>\n",
       "      <td>3000.0000</td>\n",
       "      <td>3000.000000</td>\n",
       "      <td>3000.000000</td>\n",
       "      <td>3000.000000</td>\n",
       "      <td>3000.000000</td>\n",
       "      <td>3000.000000</td>\n",
       "      <td>3000.000000</td>\n",
       "      <td>3000.000000</td>\n",
       "      <td>3000.000000</td>\n",
       "      <td>3000.000000</td>\n",
       "    </tr>\n",
       "    <tr>\n",
       "      <th>mean</th>\n",
       "      <td>1699.500000</td>\n",
       "      <td>110.8670</td>\n",
       "      <td>27.215333</td>\n",
       "      <td>2.187333</td>\n",
       "      <td>0.084667</td>\n",
       "      <td>0.189000</td>\n",
       "      <td>3.325000</td>\n",
       "      <td>104.660693</td>\n",
       "      <td>0.022333</td>\n",
       "      <td>0.547667</td>\n",
       "      <td>0.409667</td>\n",
       "    </tr>\n",
       "    <tr>\n",
       "      <th>std</th>\n",
       "      <td>866.169729</td>\n",
       "      <td>112.8239</td>\n",
       "      <td>13.414008</td>\n",
       "      <td>1.449692</td>\n",
       "      <td>0.392704</td>\n",
       "      <td>0.569257</td>\n",
       "      <td>20.426611</td>\n",
       "      <td>38.304952</td>\n",
       "      <td>0.147790</td>\n",
       "      <td>0.786512</td>\n",
       "      <td>0.491854</td>\n",
       "    </tr>\n",
       "    <tr>\n",
       "      <th>min</th>\n",
       "      <td>200.000000</td>\n",
       "      <td>0.0000</td>\n",
       "      <td>1.000000</td>\n",
       "      <td>0.000000</td>\n",
       "      <td>0.000000</td>\n",
       "      <td>0.000000</td>\n",
       "      <td>0.000000</td>\n",
       "      <td>0.000000</td>\n",
       "      <td>0.000000</td>\n",
       "      <td>0.000000</td>\n",
       "      <td>0.000000</td>\n",
       "    </tr>\n",
       "    <tr>\n",
       "      <th>25%</th>\n",
       "      <td>949.750000</td>\n",
       "      <td>23.0000</td>\n",
       "      <td>17.000000</td>\n",
       "      <td>1.000000</td>\n",
       "      <td>0.000000</td>\n",
       "      <td>0.000000</td>\n",
       "      <td>0.000000</td>\n",
       "      <td>79.000000</td>\n",
       "      <td>0.000000</td>\n",
       "      <td>0.000000</td>\n",
       "      <td>0.000000</td>\n",
       "    </tr>\n",
       "    <tr>\n",
       "      <th>50%</th>\n",
       "      <td>1699.500000</td>\n",
       "      <td>75.0000</td>\n",
       "      <td>28.000000</td>\n",
       "      <td>2.000000</td>\n",
       "      <td>0.000000</td>\n",
       "      <td>0.000000</td>\n",
       "      <td>0.000000</td>\n",
       "      <td>99.000000</td>\n",
       "      <td>0.000000</td>\n",
       "      <td>0.000000</td>\n",
       "      <td>0.000000</td>\n",
       "    </tr>\n",
       "    <tr>\n",
       "      <th>75%</th>\n",
       "      <td>2449.250000</td>\n",
       "      <td>166.0000</td>\n",
       "      <td>38.000000</td>\n",
       "      <td>3.000000</td>\n",
       "      <td>0.000000</td>\n",
       "      <td>0.000000</td>\n",
       "      <td>0.000000</td>\n",
       "      <td>125.000000</td>\n",
       "      <td>0.000000</td>\n",
       "      <td>1.000000</td>\n",
       "      <td>1.000000</td>\n",
       "    </tr>\n",
       "    <tr>\n",
       "      <th>max</th>\n",
       "      <td>3199.000000</td>\n",
       "      <td>629.0000</td>\n",
       "      <td>53.000000</td>\n",
       "      <td>18.000000</td>\n",
       "      <td>11.000000</td>\n",
       "      <td>13.000000</td>\n",
       "      <td>391.000000</td>\n",
       "      <td>313.670000</td>\n",
       "      <td>1.000000</td>\n",
       "      <td>5.000000</td>\n",
       "      <td>1.000000</td>\n",
       "    </tr>\n",
       "  </tbody>\n",
       "</table>\n",
       "</div>"
      ],
      "text/plain": [
       "                id  lead_time  arrival_week     duration  prev_cancel  \\\n",
       "count  3000.000000  3000.0000   3000.000000  3000.000000  3000.000000   \n",
       "mean   1699.500000   110.8670     27.215333     2.187333     0.084667   \n",
       "std     866.169729   112.8239     13.414008     1.449692     0.392704   \n",
       "min     200.000000     0.0000      1.000000     0.000000     0.000000   \n",
       "25%     949.750000    23.0000     17.000000     1.000000     0.000000   \n",
       "50%    1699.500000    75.0000     28.000000     2.000000     0.000000   \n",
       "75%    2449.250000   166.0000     38.000000     3.000000     0.000000   \n",
       "max    3199.000000   629.0000     53.000000    18.000000    11.000000   \n",
       "\n",
       "       booking_changes  waiting_period  per_Day_price      parking  \\\n",
       "count      3000.000000     3000.000000    3000.000000  3000.000000   \n",
       "mean          0.189000        3.325000     104.660693     0.022333   \n",
       "std           0.569257       20.426611      38.304952     0.147790   \n",
       "min           0.000000        0.000000       0.000000     0.000000   \n",
       "25%           0.000000        0.000000      79.000000     0.000000   \n",
       "50%           0.000000        0.000000      99.000000     0.000000   \n",
       "75%           0.000000        0.000000     125.000000     0.000000   \n",
       "max          13.000000      391.000000     313.670000     1.000000   \n",
       "\n",
       "       special_request  is_cancelled  \n",
       "count      3000.000000   3000.000000  \n",
       "mean          0.547667      0.409667  \n",
       "std           0.786512      0.491854  \n",
       "min           0.000000      0.000000  \n",
       "25%           0.000000      0.000000  \n",
       "50%           0.000000      0.000000  \n",
       "75%           1.000000      1.000000  \n",
       "max           5.000000      1.000000  "
      ]
     },
     "execution_count": 50,
     "metadata": {},
     "output_type": "execute_result"
    }
   ],
   "source": [
    "#Description\n",
    "data.describe()"
   ]
  },
  {
   "cell_type": "markdown",
   "metadata": {
    "colab_type": "text",
    "id": "776AnflSNNQD"
   },
   "source": [
    "## Visualization, Modeling, Machine Learning\n",
    "\n",
    "Build a classification model and to determine whether a customer will cancel a booking. Please explain the findings effectively to technical and non-technical audiences using comments and visualizations, if appropriate.\n",
    "- **Build an optimized model that effectively solves the business problem.**\n",
    "- **The model's performance will be evaluated on the basis of accuracy.**\n",
    "- **Read the test.csv file and prepare features for testing.**"
   ]
  },
  {
   "cell_type": "code",
   "execution_count": 51,
   "metadata": {
    "colab": {},
    "colab_type": "code",
    "id": "cwO5c1ABNNQE",
    "outputId": "6246cf4b-42f0-4805-c1c9-8b3086af2f1b"
   },
   "outputs": [
    {
     "data": {
      "text/html": [
       "<div>\n",
       "<style scoped>\n",
       "    .dataframe tbody tr th:only-of-type {\n",
       "        vertical-align: middle;\n",
       "    }\n",
       "\n",
       "    .dataframe tbody tr th {\n",
       "        vertical-align: top;\n",
       "    }\n",
       "\n",
       "    .dataframe thead th {\n",
       "        text-align: right;\n",
       "    }\n",
       "</style>\n",
       "<table border=\"1\" class=\"dataframe\">\n",
       "  <thead>\n",
       "    <tr style=\"text-align: right;\">\n",
       "      <th></th>\n",
       "      <th>id</th>\n",
       "      <th>lead_time</th>\n",
       "      <th>arrival_week</th>\n",
       "      <th>duration</th>\n",
       "      <th>prev_cancel</th>\n",
       "      <th>booking_changes</th>\n",
       "      <th>waiting_period</th>\n",
       "      <th>per_Day_price</th>\n",
       "      <th>parking</th>\n",
       "      <th>special_request</th>\n",
       "      <th>segment</th>\n",
       "      <th>deposit</th>\n",
       "      <th>cust_type</th>\n",
       "    </tr>\n",
       "  </thead>\n",
       "  <tbody>\n",
       "    <tr>\n",
       "      <th>0</th>\n",
       "      <td>3200</td>\n",
       "      <td>45</td>\n",
       "      <td>9</td>\n",
       "      <td>3</td>\n",
       "      <td>0</td>\n",
       "      <td>2</td>\n",
       "      <td>0</td>\n",
       "      <td>80.3</td>\n",
       "      <td>0</td>\n",
       "      <td>1</td>\n",
       "      <td>Online TA</td>\n",
       "      <td>No Deposit</td>\n",
       "      <td>Transient</td>\n",
       "    </tr>\n",
       "    <tr>\n",
       "      <th>1</th>\n",
       "      <td>3201</td>\n",
       "      <td>7</td>\n",
       "      <td>3</td>\n",
       "      <td>5</td>\n",
       "      <td>0</td>\n",
       "      <td>0</td>\n",
       "      <td>0</td>\n",
       "      <td>73.9</td>\n",
       "      <td>0</td>\n",
       "      <td>0</td>\n",
       "      <td>Online TA</td>\n",
       "      <td>No Deposit</td>\n",
       "      <td>Transient</td>\n",
       "    </tr>\n",
       "    <tr>\n",
       "      <th>2</th>\n",
       "      <td>3202</td>\n",
       "      <td>0</td>\n",
       "      <td>32</td>\n",
       "      <td>2</td>\n",
       "      <td>0</td>\n",
       "      <td>1</td>\n",
       "      <td>0</td>\n",
       "      <td>80.0</td>\n",
       "      <td>1</td>\n",
       "      <td>1</td>\n",
       "      <td>Online TA</td>\n",
       "      <td>No Deposit</td>\n",
       "      <td>Contract</td>\n",
       "    </tr>\n",
       "    <tr>\n",
       "      <th>3</th>\n",
       "      <td>3203</td>\n",
       "      <td>101</td>\n",
       "      <td>32</td>\n",
       "      <td>1</td>\n",
       "      <td>0</td>\n",
       "      <td>0</td>\n",
       "      <td>0</td>\n",
       "      <td>107.1</td>\n",
       "      <td>0</td>\n",
       "      <td>0</td>\n",
       "      <td>Online TA</td>\n",
       "      <td>No Deposit</td>\n",
       "      <td>Transient</td>\n",
       "    </tr>\n",
       "    <tr>\n",
       "      <th>4</th>\n",
       "      <td>3204</td>\n",
       "      <td>95</td>\n",
       "      <td>6</td>\n",
       "      <td>2</td>\n",
       "      <td>0</td>\n",
       "      <td>0</td>\n",
       "      <td>0</td>\n",
       "      <td>72.0</td>\n",
       "      <td>0</td>\n",
       "      <td>0</td>\n",
       "      <td>Offline TA/TO</td>\n",
       "      <td>No Deposit</td>\n",
       "      <td>Transient</td>\n",
       "    </tr>\n",
       "  </tbody>\n",
       "</table>\n",
       "</div>"
      ],
      "text/plain": [
       "     id  lead_time  arrival_week  duration  prev_cancel  booking_changes  \\\n",
       "0  3200         45             9         3            0                2   \n",
       "1  3201          7             3         5            0                0   \n",
       "2  3202          0            32         2            0                1   \n",
       "3  3203        101            32         1            0                0   \n",
       "4  3204         95             6         2            0                0   \n",
       "\n",
       "   waiting_period  per_Day_price  parking  special_request        segment  \\\n",
       "0               0           80.3        0                1      Online TA   \n",
       "1               0           73.9        0                0      Online TA   \n",
       "2               0           80.0        1                1      Online TA   \n",
       "3               0          107.1        0                0      Online TA   \n",
       "4               0           72.0        0                0  Offline TA/TO   \n",
       "\n",
       "           deposit  cust_type  \n",
       "0  No Deposit       Transient  \n",
       "1  No Deposit       Transient  \n",
       "2  No Deposit        Contract  \n",
       "3  No Deposit       Transient  \n",
       "4  No Deposit       Transient  "
      ]
     },
     "execution_count": 51,
     "metadata": {},
     "output_type": "execute_result"
    }
   ],
   "source": [
    "#Loading Test data\n",
    "test_data=pd.read_csv('test.csv')\n",
    "test_data.head()"
   ]
  },
  {
   "cell_type": "code",
   "execution_count": 70,
   "metadata": {},
   "outputs": [],
   "source": [
    "from sklearn.preprocessing import LabelEncoder\n",
    "le = LabelEncoder()\n",
    "for col in data.columns:\n",
    "    if(type(data[col][0]) is str):\n",
    "        data[col]= le.fit_transform(data[col])\n",
    "        test_data[col]= le.fit_transform(test_data[col])\n"
   ]
  },
  {
   "cell_type": "code",
   "execution_count": 73,
   "metadata": {
    "colab": {},
    "colab_type": "code",
    "id": "hAmSb7AfNNQI"
   },
   "outputs": [],
   "source": [
    "from sklearn.preprocessing import StandardScaler\n",
    "from sklearn.svm import SVC\n",
    "from sklearn.ensemble import RandomForestClassifier\n",
    "from sklearn.model_selection import train_test_split\n",
    "from sklearn.metrics import accuracy_score\n",
    "\n",
    "X= data.drop(labels = \"is_cancelled\", axis=1)\n",
    "y= data[\"is_cancelled\"]\n",
    "\n",
    "X_train, X_test, y_train, y_test = train_test_split(X, y, test_size=0.05, random_state=42)"
   ]
  },
  {
   "cell_type": "code",
   "execution_count": null,
   "metadata": {
    "colab": {},
    "colab_type": "code",
    "id": "E6VYAA-iNNQM"
   },
   "outputs": [],
   "source": [
    "rfc = RandomForestClassifier()\n",
    "history = rfc.fit(X_train, y_train)\n",
    "\n",
    "pred_rfc = rfc.predict(X_test)\n",
    "\n",
    "accuary_rfc = accuracy_score(y_test, pred_rfc)\n",
    "\n",
    "print(\"accuracy score :\", accuary_rfc)"
   ]
  },
  {
   "cell_type": "code",
   "execution_count": null,
   "metadata": {},
   "outputs": [],
   "source": [
    "import matplotlib.pyplot as plt\n",
    "\n",
    "plt.plot(history.history['acc'])\n",
    "plt.plot(history.history['val_acc'])\n",
    "\n",
    "plt.title('Model Accuracy')\n",
    "plt.ylabel('accuracy')\n",
    "plt.xlabel('epoch')\n",
    "plt.legend(['train','validation'], loc='upper left')\n",
    "plt.show()"
   ]
  },
  {
   "cell_type": "code",
   "execution_count": null,
   "metadata": {},
   "outputs": [],
   "source": [
    "from sklearn.model_selection import GridSearchCV\n",
    "from xgboost import XGBClassifier\n",
    "\n",
    "params = {'colsample_bytree':[0.4,0.5,0.6],\n",
    "          'learning_rate':[0.01,0.02,0.09],\n",
    "          'max_depth':[2,3,4,5,6],\n",
    "          'n_estimators':[100,200,500,2000]}\n",
    "\n",
    "xgb = XGBClassifier()\n",
    "\n",
    "grid = GridSearchCV(xgb,params,cv=10,n_jobs=-1,verbose=2)\n",
    "xgb_params = grid.fit(X_train,y_train)"
   ]
  },
  {
   "cell_type": "code",
   "execution_count": null,
   "metadata": {},
   "outputs": [],
   "source": [
    "xgb_params"
   ]
  },
  {
   "cell_type": "markdown",
   "metadata": {
    "colab_type": "text",
    "id": "IqxVwWBwNNQS"
   },
   "source": [
    "\n",
    "**Describe the the most important features of the model to management.**\n",
    "\n",
    "> #### Task:\n",
    "- **Visualize the top 10 features and their feature importance.**\n"
   ]
  },
  {
   "cell_type": "code",
   "execution_count": null,
   "metadata": {
    "colab": {},
    "colab_type": "code",
    "id": "mNMb2ZGCNNQT"
   },
   "outputs": [],
   "source": []
  },
  {
   "cell_type": "code",
   "execution_count": null,
   "metadata": {
    "colab": {},
    "colab_type": "code",
    "id": "6UCGui6nNNQV"
   },
   "outputs": [],
   "source": []
  },
  {
   "cell_type": "markdown",
   "metadata": {
    "colab_type": "text",
    "id": "Cqv9hOnfNNQZ"
   },
   "source": [
    "> #### Task:\n",
    "- **Submit the predictions on the test dataset using your optimized model** <br/>\n",
    "    For each record in the test set (`test.csv`), you must predict whether a customer will cancel his booking or not. You should submit a CSV file with a header row and one row per test entry. \n",
    "\n",
    "The file (`submissions.csv`) should have exactly 2 columns:\n",
    "   - **id**\n",
    "   - **is_cancelled**\n",
    "   "
   ]
  },
  {
   "cell_type": "code",
   "execution_count": 68,
   "metadata": {
    "colab": {},
    "colab_type": "code",
    "id": "C0I2lsH-NNQP"
   },
   "outputs": [
    {
     "name": "stdout",
     "output_type": "stream",
     "text": [
      "[(3200, 0), (3201, 0), (3202, 0), (3203, 1), (3204, 0)]\n"
     ]
    }
   ],
   "source": [
    "test_pred_rfc = rfc.predict(test_data)\n",
    "\n",
    "zipped = zip(test_data['id'],test_pred_rfc)\n",
    "listed = list(zipped)\n",
    "print(listed[:5])\n",
    "\n"
   ]
  },
  {
   "cell_type": "code",
   "execution_count": 69,
   "metadata": {
    "colab": {},
    "colab_type": "code",
    "id": "Y-ZgcN1CNNQd"
   },
   "outputs": [
    {
     "name": "stdout",
     "output_type": "stream",
     "text": [
      "     id  is_cancelled\n",
      "0  3200             0\n",
      "1  3201             0\n",
      "2  3202             0\n",
      "3  3203             1\n",
      "4  3204             0\n"
     ]
    }
   ],
   "source": [
    "submissions_df = pd.DataFrame(listed, columns = ['id','is_cancelled'])\n",
    "print(submissions_df[:5])\n",
    "\n",
    "submissions_df.to_csv('submissions.csv')"
   ]
  }
 ],
 "metadata": {
  "colab": {
   "name": "Questions.ipynb",
   "provenance": []
  },
  "kernelspec": {
   "display_name": "Python 3 (ipykernel)",
   "language": "python",
   "name": "python3"
  },
  "language_info": {
   "codemirror_mode": {
    "name": "ipython",
    "version": 3
   },
   "file_extension": ".py",
   "mimetype": "text/x-python",
   "name": "python",
   "nbconvert_exporter": "python",
   "pygments_lexer": "ipython3",
   "version": "3.9.12"
  }
 },
 "nbformat": 4,
 "nbformat_minor": 4
}
